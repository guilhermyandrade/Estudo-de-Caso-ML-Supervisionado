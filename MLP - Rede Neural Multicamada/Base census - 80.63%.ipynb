{
 "cells": [
  {
   "cell_type": "markdown",
   "id": "09fb4e8f",
   "metadata": {},
   "source": [
    "#### Carregando a base de dados"
   ]
  },
  {
   "cell_type": "code",
   "execution_count": 2,
   "id": "f66f0a30",
   "metadata": {},
   "outputs": [],
   "source": [
    "import pickle\n",
    "\n",
    "with open(r'../_Material/Bases de dados/Bases pre-processadas/base_census.pkl', mode = 'rb') as arquivo:\n",
    "    x_previsores, y_classes, x_teste, y_teste = pickle.load( arquivo )"
   ]
  },
  {
   "cell_type": "code",
   "execution_count": 3,
   "id": "bd7a51a8",
   "metadata": {},
   "outputs": [
    {
     "data": {
      "text/plain": [
       "((27676, 108), (27676,))"
      ]
     },
     "execution_count": 3,
     "metadata": {},
     "output_type": "execute_result"
    }
   ],
   "source": [
    "x_previsores.shape, y_classes.shape"
   ]
  },
  {
   "cell_type": "code",
   "execution_count": 4,
   "id": "f031b366",
   "metadata": {},
   "outputs": [
    {
     "data": {
      "text/plain": [
       "((4885, 108), (4885,))"
      ]
     },
     "execution_count": 4,
     "metadata": {},
     "output_type": "execute_result"
    }
   ],
   "source": [
    "x_teste.shape, y_teste.shape"
   ]
  },
  {
   "cell_type": "markdown",
   "id": "12e10fee",
   "metadata": {},
   "source": [
    "#### Aplicação do aprendizado"
   ]
  },
  {
   "cell_type": "code",
   "execution_count": 5,
   "id": "e08de920",
   "metadata": {},
   "outputs": [
    {
     "name": "stdout",
     "output_type": "stream",
     "text": [
      "Iteration 1, loss = 0.38228183\n",
      "Iteration 2, loss = 0.32574093\n",
      "Iteration 3, loss = 0.31448964\n",
      "Iteration 4, loss = 0.30659593\n",
      "Iteration 5, loss = 0.30239239\n",
      "Iteration 6, loss = 0.29848092\n",
      "Iteration 7, loss = 0.29491929\n",
      "Iteration 8, loss = 0.29244207\n",
      "Iteration 9, loss = 0.28950103\n",
      "Iteration 10, loss = 0.28749045\n",
      "Iteration 11, loss = 0.28572923\n",
      "Iteration 12, loss = 0.28341449\n",
      "Iteration 13, loss = 0.28281478\n",
      "Iteration 14, loss = 0.28033773\n",
      "Iteration 15, loss = 0.27877569\n",
      "Iteration 16, loss = 0.27688898\n",
      "Iteration 17, loss = 0.27526052\n",
      "Iteration 18, loss = 0.27411463\n",
      "Iteration 19, loss = 0.27213331\n",
      "Iteration 20, loss = 0.27029082\n",
      "Iteration 21, loss = 0.26810294\n",
      "Iteration 22, loss = 0.26618716\n",
      "Iteration 23, loss = 0.26714121\n",
      "Iteration 24, loss = 0.26440563\n",
      "Iteration 25, loss = 0.26199492\n",
      "Iteration 26, loss = 0.26050540\n",
      "Iteration 27, loss = 0.25884585\n",
      "Iteration 28, loss = 0.25747883\n",
      "Iteration 29, loss = 0.25692892\n",
      "Iteration 30, loss = 0.25498669\n",
      "Iteration 31, loss = 0.25370387\n",
      "Iteration 32, loss = 0.25187464\n",
      "Iteration 33, loss = 0.25159922\n",
      "Iteration 34, loss = 0.24932603\n",
      "Iteration 35, loss = 0.24818738\n",
      "Iteration 36, loss = 0.24714174\n",
      "Iteration 37, loss = 0.24493676\n",
      "Iteration 38, loss = 0.24536422\n",
      "Iteration 39, loss = 0.24382039\n",
      "Iteration 40, loss = 0.24246840\n",
      "Iteration 41, loss = 0.24037370\n",
      "Iteration 42, loss = 0.24063353\n",
      "Iteration 43, loss = 0.23896265\n",
      "Iteration 44, loss = 0.23832187\n",
      "Iteration 45, loss = 0.23641608\n",
      "Iteration 46, loss = 0.23711750\n",
      "Iteration 47, loss = 0.23451593\n",
      "Iteration 48, loss = 0.23349390\n",
      "Iteration 49, loss = 0.23261660\n",
      "Iteration 50, loss = 0.23163788\n",
      "Iteration 51, loss = 0.22978058\n",
      "Iteration 52, loss = 0.22942277\n",
      "Iteration 53, loss = 0.22900381\n",
      "Iteration 54, loss = 0.22828377\n",
      "Iteration 55, loss = 0.22662442\n",
      "Iteration 56, loss = 0.22689873\n",
      "Iteration 57, loss = 0.22581325\n",
      "Iteration 58, loss = 0.22338594\n",
      "Iteration 59, loss = 0.22416467\n",
      "Iteration 60, loss = 0.22226703\n",
      "Iteration 61, loss = 0.22137893\n",
      "Iteration 62, loss = 0.22157918\n",
      "Iteration 63, loss = 0.22019670\n",
      "Iteration 64, loss = 0.21898100\n",
      "Iteration 65, loss = 0.21888118\n",
      "Iteration 66, loss = 0.21810463\n",
      "Iteration 67, loss = 0.21734451\n",
      "Iteration 68, loss = 0.21676703\n",
      "Iteration 69, loss = 0.21714558\n",
      "Iteration 70, loss = 0.21516710\n",
      "Iteration 71, loss = 0.21409724\n",
      "Iteration 72, loss = 0.21405534\n",
      "Iteration 73, loss = 0.21449953\n",
      "Iteration 74, loss = 0.21244752\n",
      "Iteration 75, loss = 0.21209182\n",
      "Iteration 76, loss = 0.21150854\n",
      "Iteration 77, loss = 0.21147445\n",
      "Iteration 78, loss = 0.21073407\n",
      "Iteration 79, loss = 0.20876464\n",
      "Iteration 80, loss = 0.20817762\n",
      "Iteration 81, loss = 0.20862415\n",
      "Iteration 82, loss = 0.20732048\n",
      "Iteration 83, loss = 0.20756151\n",
      "Iteration 84, loss = 0.20735160\n",
      "Iteration 85, loss = 0.20545983\n",
      "Iteration 86, loss = 0.20470501\n",
      "Iteration 87, loss = 0.20408694\n",
      "Iteration 88, loss = 0.20340830\n",
      "Iteration 89, loss = 0.20318129\n",
      "Iteration 90, loss = 0.20205079\n",
      "Iteration 91, loss = 0.20232377\n",
      "Iteration 92, loss = 0.20199567\n",
      "Iteration 93, loss = 0.20199250\n",
      "Iteration 94, loss = 0.20041210\n",
      "Iteration 95, loss = 0.19923614\n",
      "Iteration 96, loss = 0.19933125\n",
      "Iteration 97, loss = 0.19746656\n",
      "Iteration 98, loss = 0.19879870\n",
      "Iteration 99, loss = 0.19910148\n",
      "Iteration 100, loss = 0.19886192\n",
      "Iteration 101, loss = 0.19672865\n",
      "Iteration 102, loss = 0.19625872\n",
      "Iteration 103, loss = 0.19518987\n",
      "Iteration 104, loss = 0.19534558\n",
      "Iteration 105, loss = 0.19478292\n",
      "Iteration 106, loss = 0.19342497\n",
      "Iteration 107, loss = 0.19264047\n",
      "Iteration 108, loss = 0.19259056\n",
      "Iteration 109, loss = 0.19251779\n",
      "Iteration 110, loss = 0.19212898\n",
      "Iteration 111, loss = 0.19233031\n",
      "Iteration 112, loss = 0.19103725\n",
      "Iteration 113, loss = 0.19034815\n",
      "Iteration 114, loss = 0.19028919\n",
      "Iteration 115, loss = 0.18955043\n",
      "Iteration 116, loss = 0.18864478\n",
      "Iteration 117, loss = 0.18888351\n",
      "Iteration 118, loss = 0.18820712\n",
      "Iteration 119, loss = 0.18802722\n",
      "Iteration 120, loss = 0.18771626\n",
      "Iteration 121, loss = 0.18675520\n",
      "Iteration 122, loss = 0.18576891\n",
      "Iteration 123, loss = 0.18535713\n",
      "Iteration 124, loss = 0.18522866\n",
      "Iteration 125, loss = 0.18657853\n",
      "Iteration 126, loss = 0.18419282\n",
      "Iteration 127, loss = 0.18428497\n",
      "Iteration 128, loss = 0.18361499\n",
      "Iteration 129, loss = 0.18639768\n",
      "Iteration 130, loss = 0.18395708\n",
      "Iteration 131, loss = 0.18294454\n",
      "Iteration 132, loss = 0.18250512\n",
      "Iteration 133, loss = 0.18271077\n",
      "Iteration 134, loss = 0.18106603\n",
      "Iteration 135, loss = 0.18038308\n",
      "Iteration 136, loss = 0.18046607\n",
      "Iteration 137, loss = 0.18108803\n",
      "Iteration 138, loss = 0.17978320\n",
      "Iteration 139, loss = 0.17859737\n",
      "Iteration 140, loss = 0.18076497\n",
      "Iteration 141, loss = 0.17806199\n",
      "Iteration 142, loss = 0.18030257\n",
      "Iteration 143, loss = 0.17894008\n",
      "Iteration 144, loss = 0.17773187\n",
      "Iteration 145, loss = 0.17742901\n",
      "Iteration 146, loss = 0.17720763\n",
      "Iteration 147, loss = 0.17656692\n",
      "Iteration 148, loss = 0.17621829\n",
      "Iteration 149, loss = 0.17588206\n",
      "Iteration 150, loss = 0.17592944\n",
      "Iteration 151, loss = 0.17767491\n",
      "Iteration 152, loss = 0.17443478\n",
      "Iteration 153, loss = 0.17541113\n",
      "Iteration 154, loss = 0.17429394\n",
      "Iteration 155, loss = 0.17374958\n",
      "Iteration 156, loss = 0.17347298\n",
      "Iteration 157, loss = 0.17463131\n",
      "Iteration 158, loss = 0.17296046\n",
      "Iteration 159, loss = 0.17246137\n",
      "Iteration 160, loss = 0.17184194\n",
      "Iteration 161, loss = 0.17122655\n",
      "Iteration 162, loss = 0.17254830\n",
      "Iteration 163, loss = 0.17127813\n",
      "Iteration 164, loss = 0.17164246\n",
      "Iteration 165, loss = 0.17050052\n",
      "Iteration 166, loss = 0.16994184\n",
      "Iteration 167, loss = 0.17039711\n",
      "Iteration 168, loss = 0.17054905\n",
      "Iteration 169, loss = 0.16993935\n",
      "Iteration 170, loss = 0.16940564\n",
      "Iteration 171, loss = 0.16935072\n",
      "Iteration 172, loss = 0.16916721\n",
      "Iteration 173, loss = 0.16849103\n",
      "Iteration 174, loss = 0.16862834\n",
      "Iteration 175, loss = 0.16742026\n",
      "Iteration 176, loss = 0.16862340\n",
      "Iteration 177, loss = 0.16865710\n",
      "Iteration 178, loss = 0.16763053\n",
      "Iteration 179, loss = 0.16905805\n",
      "Iteration 180, loss = 0.16585436\n",
      "Iteration 181, loss = 0.16587931\n",
      "Iteration 182, loss = 0.16640798\n",
      "Iteration 183, loss = 0.16587944\n",
      "Iteration 184, loss = 0.16567830\n",
      "Iteration 185, loss = 0.16553559\n",
      "Iteration 186, loss = 0.16503971\n",
      "Iteration 187, loss = 0.16553333\n",
      "Iteration 188, loss = 0.16594556\n",
      "Iteration 189, loss = 0.16412438\n",
      "Iteration 190, loss = 0.16476910\n",
      "Iteration 191, loss = 0.16241900\n",
      "Iteration 192, loss = 0.16406262\n",
      "Iteration 193, loss = 0.16372558\n",
      "Iteration 194, loss = 0.16401721\n",
      "Iteration 195, loss = 0.16402653\n",
      "Iteration 196, loss = 0.16417148\n",
      "Iteration 197, loss = 0.16389011\n",
      "Iteration 198, loss = 0.16406470\n",
      "Iteration 199, loss = 0.16188173\n",
      "Iteration 200, loss = 0.16160114\n",
      "Iteration 201, loss = 0.16121204\n",
      "Iteration 202, loss = 0.16299287\n",
      "Iteration 203, loss = 0.16059501\n",
      "Iteration 204, loss = 0.16200712\n",
      "Iteration 205, loss = 0.15975673\n",
      "Iteration 206, loss = 0.16040143\n",
      "Iteration 207, loss = 0.15982955\n",
      "Iteration 208, loss = 0.15977288\n",
      "Iteration 209, loss = 0.16211851\n",
      "Iteration 210, loss = 0.16045550\n",
      "Iteration 211, loss = 0.15984878\n",
      "Iteration 212, loss = 0.16108983\n",
      "Iteration 213, loss = 0.16043818\n",
      "Iteration 214, loss = 0.15892297\n",
      "Iteration 215, loss = 0.15762880\n",
      "Iteration 216, loss = 0.15807700\n",
      "Iteration 217, loss = 0.15824206\n",
      "Iteration 218, loss = 0.15779656\n",
      "Iteration 219, loss = 0.15868832\n",
      "Iteration 220, loss = 0.15702257\n",
      "Iteration 221, loss = 0.15729658\n",
      "Iteration 222, loss = 0.15592012\n",
      "Iteration 223, loss = 0.15747358\n",
      "Iteration 224, loss = 0.15658231\n",
      "Iteration 225, loss = 0.15605722\n",
      "Iteration 226, loss = 0.15537202\n",
      "Iteration 227, loss = 0.15798684\n",
      "Iteration 228, loss = 0.15631197\n",
      "Iteration 229, loss = 0.15507448\n",
      "Iteration 230, loss = 0.15795327\n",
      "Iteration 231, loss = 0.15505148\n",
      "Iteration 232, loss = 0.15412571\n",
      "Iteration 233, loss = 0.15465673\n",
      "Iteration 234, loss = 0.15430800\n",
      "Iteration 235, loss = 0.15571308\n",
      "Iteration 236, loss = 0.15406378\n",
      "Iteration 237, loss = 0.15409453\n",
      "Iteration 238, loss = 0.15296754\n",
      "Iteration 239, loss = 0.15315727\n",
      "Iteration 240, loss = 0.15347502\n",
      "Iteration 241, loss = 0.15348325\n",
      "Iteration 242, loss = 0.15370290\n",
      "Iteration 243, loss = 0.15381419\n",
      "Iteration 244, loss = 0.15274407\n",
      "Iteration 245, loss = 0.15452127\n",
      "Iteration 246, loss = 0.15255976\n",
      "Iteration 247, loss = 0.15269590\n",
      "Iteration 248, loss = 0.15160639\n",
      "Iteration 249, loss = 0.15056602\n",
      "Iteration 250, loss = 0.15163495\n",
      "Iteration 251, loss = 0.15128149\n",
      "Iteration 252, loss = 0.15191081\n",
      "Iteration 253, loss = 0.15307927\n",
      "Iteration 254, loss = 0.15100838\n",
      "Iteration 255, loss = 0.15232455\n",
      "Iteration 256, loss = 0.15182743\n",
      "Iteration 257, loss = 0.15012928\n",
      "Iteration 258, loss = 0.15083656\n",
      "Iteration 259, loss = 0.15050618\n",
      "Iteration 260, loss = 0.14792286\n",
      "Iteration 261, loss = 0.15120072\n",
      "Iteration 262, loss = 0.15033919\n",
      "Iteration 263, loss = 0.15115159\n",
      "Iteration 264, loss = 0.14911681\n",
      "Iteration 265, loss = 0.14988285\n",
      "Iteration 266, loss = 0.14936617\n",
      "Iteration 267, loss = 0.14798404\n",
      "Iteration 268, loss = 0.14753222\n",
      "Iteration 269, loss = 0.15103096\n",
      "Iteration 270, loss = 0.14660399\n",
      "Iteration 271, loss = 0.14890179\n",
      "Iteration 272, loss = 0.14739433\n",
      "Iteration 273, loss = 0.14743235\n",
      "Iteration 274, loss = 0.14879127\n",
      "Iteration 275, loss = 0.14765952\n",
      "Iteration 276, loss = 0.14815799\n",
      "Iteration 277, loss = 0.14876728\n",
      "Iteration 278, loss = 0.14778376\n",
      "Iteration 279, loss = 0.14586791\n",
      "Iteration 280, loss = 0.14600803\n",
      "Iteration 281, loss = 0.14581506\n",
      "Iteration 282, loss = 0.14628039\n",
      "Iteration 283, loss = 0.14694822\n",
      "Iteration 284, loss = 0.14605902\n",
      "Iteration 285, loss = 0.14646410\n",
      "Iteration 286, loss = 0.14665167\n",
      "Iteration 287, loss = 0.14474982\n",
      "Iteration 288, loss = 0.14457974\n",
      "Iteration 289, loss = 0.14508560\n",
      "Iteration 290, loss = 0.14581903\n",
      "Iteration 291, loss = 0.14521167\n",
      "Iteration 292, loss = 0.14511053\n",
      "Iteration 293, loss = 0.14478277\n",
      "Iteration 294, loss = 0.14442514\n",
      "Iteration 295, loss = 0.14286641\n",
      "Iteration 296, loss = 0.14396637\n",
      "Iteration 297, loss = 0.14389892\n",
      "Iteration 298, loss = 0.14293554\n",
      "Iteration 299, loss = 0.14461836\n",
      "Iteration 300, loss = 0.14518066\n",
      "Iteration 301, loss = 0.14402539\n",
      "Iteration 302, loss = 0.14397698\n",
      "Iteration 303, loss = 0.14524910\n",
      "Iteration 304, loss = 0.14204926\n",
      "Iteration 305, loss = 0.14371042\n",
      "Iteration 306, loss = 0.14248442\n",
      "Iteration 307, loss = 0.14272358\n",
      "Iteration 308, loss = 0.14201779\n",
      "Iteration 309, loss = 0.14182095\n",
      "Iteration 310, loss = 0.14098914\n",
      "Iteration 311, loss = 0.14253456\n",
      "Iteration 312, loss = 0.14172685\n",
      "Iteration 313, loss = 0.14161221\n",
      "Iteration 314, loss = 0.14205683\n",
      "Iteration 315, loss = 0.14163252\n",
      "Iteration 316, loss = 0.14307299\n",
      "Iteration 317, loss = 0.14290181\n",
      "Iteration 318, loss = 0.14301617\n",
      "Iteration 319, loss = 0.14227447\n",
      "Iteration 320, loss = 0.14159687\n",
      "Iteration 321, loss = 0.14148996\n",
      "Training loss did not improve more than tol=0.000010 for 10 consecutive epochs. Stopping.\n"
     ]
    },
    {
     "data": {
      "text/html": [
       "<style>#sk-container-id-1 {color: black;}#sk-container-id-1 pre{padding: 0;}#sk-container-id-1 div.sk-toggleable {background-color: white;}#sk-container-id-1 label.sk-toggleable__label {cursor: pointer;display: block;width: 100%;margin-bottom: 0;padding: 0.3em;box-sizing: border-box;text-align: center;}#sk-container-id-1 label.sk-toggleable__label-arrow:before {content: \"▸\";float: left;margin-right: 0.25em;color: #696969;}#sk-container-id-1 label.sk-toggleable__label-arrow:hover:before {color: black;}#sk-container-id-1 div.sk-estimator:hover label.sk-toggleable__label-arrow:before {color: black;}#sk-container-id-1 div.sk-toggleable__content {max-height: 0;max-width: 0;overflow: hidden;text-align: left;background-color: #f0f8ff;}#sk-container-id-1 div.sk-toggleable__content pre {margin: 0.2em;color: black;border-radius: 0.25em;background-color: #f0f8ff;}#sk-container-id-1 input.sk-toggleable__control:checked~div.sk-toggleable__content {max-height: 200px;max-width: 100%;overflow: auto;}#sk-container-id-1 input.sk-toggleable__control:checked~label.sk-toggleable__label-arrow:before {content: \"▾\";}#sk-container-id-1 div.sk-estimator input.sk-toggleable__control:checked~label.sk-toggleable__label {background-color: #d4ebff;}#sk-container-id-1 div.sk-label input.sk-toggleable__control:checked~label.sk-toggleable__label {background-color: #d4ebff;}#sk-container-id-1 input.sk-hidden--visually {border: 0;clip: rect(1px 1px 1px 1px);clip: rect(1px, 1px, 1px, 1px);height: 1px;margin: -1px;overflow: hidden;padding: 0;position: absolute;width: 1px;}#sk-container-id-1 div.sk-estimator {font-family: monospace;background-color: #f0f8ff;border: 1px dotted black;border-radius: 0.25em;box-sizing: border-box;margin-bottom: 0.5em;}#sk-container-id-1 div.sk-estimator:hover {background-color: #d4ebff;}#sk-container-id-1 div.sk-parallel-item::after {content: \"\";width: 100%;border-bottom: 1px solid gray;flex-grow: 1;}#sk-container-id-1 div.sk-label:hover label.sk-toggleable__label {background-color: #d4ebff;}#sk-container-id-1 div.sk-serial::before {content: \"\";position: absolute;border-left: 1px solid gray;box-sizing: border-box;top: 0;bottom: 0;left: 50%;z-index: 0;}#sk-container-id-1 div.sk-serial {display: flex;flex-direction: column;align-items: center;background-color: white;padding-right: 0.2em;padding-left: 0.2em;position: relative;}#sk-container-id-1 div.sk-item {position: relative;z-index: 1;}#sk-container-id-1 div.sk-parallel {display: flex;align-items: stretch;justify-content: center;background-color: white;position: relative;}#sk-container-id-1 div.sk-item::before, #sk-container-id-1 div.sk-parallel-item::before {content: \"\";position: absolute;border-left: 1px solid gray;box-sizing: border-box;top: 0;bottom: 0;left: 50%;z-index: -1;}#sk-container-id-1 div.sk-parallel-item {display: flex;flex-direction: column;z-index: 1;position: relative;background-color: white;}#sk-container-id-1 div.sk-parallel-item:first-child::after {align-self: flex-end;width: 50%;}#sk-container-id-1 div.sk-parallel-item:last-child::after {align-self: flex-start;width: 50%;}#sk-container-id-1 div.sk-parallel-item:only-child::after {width: 0;}#sk-container-id-1 div.sk-dashed-wrapped {border: 1px dashed gray;margin: 0 0.4em 0.5em 0.4em;box-sizing: border-box;padding-bottom: 0.4em;background-color: white;}#sk-container-id-1 div.sk-label label {font-family: monospace;font-weight: bold;display: inline-block;line-height: 1.2em;}#sk-container-id-1 div.sk-label-container {text-align: center;}#sk-container-id-1 div.sk-container {/* jupyter's `normalize.less` sets `[hidden] { display: none; }` but bootstrap.min.css set `[hidden] { display: none !important; }` so we also need the `!important` here to be able to override the default hidden behavior on the sphinx rendered scikit-learn.org. See: https://github.com/scikit-learn/scikit-learn/issues/21755 */display: inline-block !important;position: relative;}#sk-container-id-1 div.sk-text-repr-fallback {display: none;}</style><div id=\"sk-container-id-1\" class=\"sk-top-container\"><div class=\"sk-text-repr-fallback\"><pre>MLPClassifier(hidden_layer_sizes=(55, 55), max_iter=2000, tol=1e-05,\n",
       "              verbose=True)</pre><b>In a Jupyter environment, please rerun this cell to show the HTML representation or trust the notebook. <br />On GitHub, the HTML representation is unable to render, please try loading this page with nbviewer.org.</b></div><div class=\"sk-container\" hidden><div class=\"sk-item\"><div class=\"sk-estimator sk-toggleable\"><input class=\"sk-toggleable__control sk-hidden--visually\" id=\"sk-estimator-id-1\" type=\"checkbox\" checked><label for=\"sk-estimator-id-1\" class=\"sk-toggleable__label sk-toggleable__label-arrow\">MLPClassifier</label><div class=\"sk-toggleable__content\"><pre>MLPClassifier(hidden_layer_sizes=(55, 55), max_iter=2000, tol=1e-05,\n",
       "              verbose=True)</pre></div></div></div></div></div>"
      ],
      "text/plain": [
       "MLPClassifier(hidden_layer_sizes=(55, 55), max_iter=2000, tol=1e-05,\n",
       "              verbose=True)"
      ]
     },
     "execution_count": 5,
     "metadata": {},
     "output_type": "execute_result"
    }
   ],
   "source": [
    "from sklearn.neural_network import MLPClassifier\n",
    "\n",
    "modelo = MLPClassifier(\n",
    "    hidden_layer_sizes = (55,55),  # Camadas ocultas - 108 entrada + 2 saída = 110. 110/2 = 55 neuronios para camadas ocultas\n",
    "    activation = 'relu',  # Função de ativação\n",
    "    max_iter = 2000,  # Quantidade de épocas\n",
    "    tol=0.00001,  # Tolerância a mudança de erro\n",
    "    verbose=True\n",
    ")\n",
    "\n",
    "# Ajuste e previsão\n",
    "modelo.fit(x_previsores, y_classes)"
   ]
  },
  {
   "cell_type": "code",
   "execution_count": 6,
   "id": "26a5df19",
   "metadata": {},
   "outputs": [],
   "source": [
    "previsao = modelo.predict(x_teste)"
   ]
  },
  {
   "cell_type": "code",
   "execution_count": 7,
   "id": "7be1bb8d",
   "metadata": {},
   "outputs": [
    {
     "name": "stdout",
     "output_type": "stream",
     "text": [
      "Precisão do modelo: 80.63%\n"
     ]
    }
   ],
   "source": [
    "from sklearn.metrics import accuracy_score\n",
    "\n",
    "print(f'Precisão do modelo: {accuracy_score( y_teste, previsao)*100:.2f}%')"
   ]
  },
  {
   "cell_type": "markdown",
   "id": "72125fd8",
   "metadata": {},
   "source": [
    "#### Visualizando resultados do modelo"
   ]
  },
  {
   "cell_type": "code",
   "execution_count": 8,
   "id": "44b553ff",
   "metadata": {},
   "outputs": [],
   "source": [
    "from yellowbrick.classifier import ConfusionMatrix\n",
    "from matplotlib.pyplot import xlabel, ylabel\n",
    "from sklearn.metrics import classification_report"
   ]
  },
  {
   "cell_type": "markdown",
   "id": "f9d83c94",
   "metadata": {},
   "source": [
    "#### Explicação do resultado\n",
    "\n",
    "Nesta matriz, os valores são provenientes do cruzamento entre as previsões e os valores reais do conjunto de dados. Sendo assim, pode-se chegar à seguinte conclusão:\n",
    "\n",
    "\n",
    "**Para a classe \"<=50K>\", 3.220 previsões estão corretas e 473 estão incorretas.**\n",
    "\n",
    "<br>\n",
    "\n",
    "**Para a classe \">50K\", 719 previsões estão corretas e 473 estão incorretas.**"
   ]
  },
  {
   "cell_type": "code",
   "execution_count": 9,
   "id": "48a11b81",
   "metadata": {},
   "outputs": [
    {
     "data": {
      "image/png": "[encoded data removed]",
      "text/plain": [
       "<Figure size 800x550 with 1 Axes>"
      ]
     },
     "metadata": {},
     "output_type": "display_data"
    }
   ],
   "source": [
    "cm = ConfusionMatrix( modelo )\n",
    "cm.fit( x_previsores, y_classes )\n",
    "cm.score( x_teste, y_teste )\n",
    "\n",
    "xlabel('Previsões');\n",
    "ylabel('Classes');"
   ]
  },
  {
   "cell_type": "markdown",
   "id": "4080f339",
   "metadata": {},
   "source": [
    "#### Gerando relatório de classificação"
   ]
  },
  {
   "cell_type": "code",
   "execution_count": 10,
   "id": "3de912ff",
   "metadata": {},
   "outputs": [
    {
     "name": "stdout",
     "output_type": "stream",
     "text": [
      "              precision    recall  f1-score   support\n",
      "\n",
      "       <=50K       0.87      0.87      0.87      3693\n",
      "        >50K       0.60      0.60      0.60      1192\n",
      "\n",
      "    accuracy                           0.81      4885\n",
      "   macro avg       0.74      0.74      0.74      4885\n",
      "weighted avg       0.81      0.81      0.81      4885\n",
      "\n"
     ]
    }
   ],
   "source": [
    "print(classification_report( y_teste, previsao ))"
   ]
  }
 ],
 "metadata": {
  "kernelspec": {
   "display_name": "Python 3 (ipykernel)",
   "language": "python",
   "name": "python3"
  },
  "language_info": {
   "codemirror_mode": {
    "name": "ipython",
    "version": 3
   },
   "file_extension": ".py",
   "mimetype": "text/x-python",
   "name": "python",
   "nbconvert_exporter": "python",
   "pygments_lexer": "ipython3",
   "version": "3.11.7"
  },
  "varInspector": {
   "cols": {
    "lenName": 16,
    "lenType": 16,
    "lenVar": 40
   },
   "kernels_config": {
    "python": {
     "delete_cmd_postfix": "",
     "delete_cmd_prefix": "del ",
     "library": "var_list.py",
     "varRefreshCmd": "print(var_dic_list())"
    },
    "r": {
     "delete_cmd_postfix": ") ",
     "delete_cmd_prefix": "rm(",
     "library": "var_list.r",
     "varRefreshCmd": "cat(var_dic_list()) "
    }
   },
   "types_to_exclude": [
    "module",
    "function",
    "builtin_function_or_method",
    "instance",
    "_Feature"
   ],
   "window_display": false
  }
 },
 "nbformat": 4,
 "nbformat_minor": 5
}
