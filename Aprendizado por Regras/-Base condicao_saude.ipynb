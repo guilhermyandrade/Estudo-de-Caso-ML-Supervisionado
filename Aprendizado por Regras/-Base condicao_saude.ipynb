{
 "cells": [
  {
   "cell_type": "markdown",
   "id": "09fb4e8f",
   "metadata": {},
   "source": [
    "#### Carregando a base de dados"
   ]
  },
  {
   "cell_type": "code",
   "execution_count": 2,
   "id": "f66f0a30",
   "metadata": {},
   "outputs": [],
   "source": [
    "from Orange.data import Table"
   ]
  },
  {
   "cell_type": "markdown",
   "metadata": {},
   "source": [
    "##### Obtendo base de dados específica para este modelo\n",
    "\n",
    "Este algoritmo identifica classes por meio de dois caracteres (\"c#\") antes do nome do atributo. Por exemplo, numa base de dados com os atributos A, B, C e D onde o atributo das classes é D, o nome do atributo \"D\" deve ser alterado para \"c#D\"."
   ]
  },
  {
   "cell_type": "code",
   "execution_count": 3,
   "metadata": {},
   "outputs": [
    {
     "data": {
      "text/plain": [
       "[[Acima, Desbalanceada, Elevada, Normal, Sim, ... | Nao regular],\n",
       " [Regular, Balanceada, Elevada, Elevado, Nao, ... | Nao regular],\n",
       " [Regular, Balanceada, Baixa, Normal, Nao, ... | Regular],\n",
       " [Regular, Balanceada, Normal, Elevado, Nao, ... | Regular],\n",
       " [Abaixo, Desbalanceada, Normal, Elevado, Sim, ... | Nao regular],\n",
       " ...\n",
       "]"
      ]
     },
     "execution_count": 3,
     "metadata": {},
     "output_type": "execute_result"
    }
   ],
   "source": [
    "# Obtendo o conjunto de dados\n",
    "tb_orange = Table(r'../_Material/Bases de dados/condicao_saude_regras.csv')\n",
    "tb_orange = tb_orange[:, 1:8]\n",
    "tb_orange"
   ]
  },
  {
   "cell_type": "code",
   "execution_count": 4,
   "metadata": {},
   "outputs": [
    {
     "data": {
      "text/plain": [
       "[Status do peso, Alimentação, Pressão Sanguínea, Colesterol, Diabetes, Exercício Físico | Condição]"
      ]
     },
     "execution_count": 4,
     "metadata": {},
     "output_type": "execute_result"
    }
   ],
   "source": [
    "# Exibindo os atributos do conjunto de dados\n",
    "tb_orange.domain"
   ]
  },
  {
   "cell_type": "markdown",
   "id": "12e10fee",
   "metadata": {},
   "source": [
    "#### Aplicação do aprendizado por regras"
   ]
  },
  {
   "cell_type": "code",
   "execution_count": 5,
   "id": "e08de920",
   "metadata": {},
   "outputs": [],
   "source": [
    "from Orange.classification.rules import CN2Learner  # Classe do modelo"
   ]
  },
  {
   "cell_type": "code",
   "execution_count": 6,
   "metadata": {},
   "outputs": [],
   "source": [
    "cn2 = CN2Learner()  # Instanciando o objeto do modelo\n",
    "modelo = cn2( tb_orange )  # Treinamento do modelo"
   ]
  },
  {
   "cell_type": "code",
   "execution_count": 7,
   "metadata": {},
   "outputs": [
    {
     "name": "stdout",
     "output_type": "stream",
     "text": [
      "IF Pressão Sanguínea==Baixa THEN Condição=Regular \n",
      "IF Status do peso==Acima THEN Condição=Nao regular \n",
      "IF Colesterol!=Elevado THEN Condição=Regular \n",
      "IF Status do peso==Abaixo THEN Condição=Nao regular \n",
      "IF Pressão Sanguínea==Elevada THEN Condição=Nao regular \n",
      "IF Status do peso==Regular THEN Condição=Regular \n",
      "IF TRUE THEN Condição=Nao regular \n"
     ]
    }
   ],
   "source": [
    "# Imprimindo as regras geradas pelo modelo\n",
    "for regra in modelo.rule_list:\n",
    "    print(regra)"
   ]
  },
  {
   "cell_type": "markdown",
   "id": "72125fd8",
   "metadata": {},
   "source": [
    "#### Passando registros que não estão presentes na base de dados para o modelo classificar"
   ]
  },
  {
   "cell_type": "code",
   "execution_count": 17,
   "id": "44b553ff",
   "metadata": {},
   "outputs": [],
   "source": [
    "previsoes = modelo([\n",
    "    \n",
    "    [  # Registro do paciente 1\n",
    "        'Acima',  # Status do peso\n",
    "        'Desbalanceada',  # Alimentação\n",
    "        'Normal',  # Pressão sanguínea\n",
    "        'Normal',  # Colesterol\n",
    "        'Sim',  # Diabetes\n",
    "        'Nao'  # Exercício físico\n",
    "    ],\n",
    "\n",
    "    [ # Registo do paciente 2\n",
    "        'Regular', # Status do peso\n",
    "        'Balanceada', # Alimentação\n",
    "        'Normal', # Pressão sanguínea\n",
    "        'Normal', # Colesterol\n",
    "        'Sim', # Diabetes\n",
    "        'Sim'  # Exercício físico\n",
    "    ]\n",
    "\n",
    "])"
   ]
  },
  {
   "cell_type": "markdown",
   "metadata": {},
   "source": [
    "#### Visualizando a previsão"
   ]
  },
  {
   "cell_type": "code",
   "execution_count": 18,
   "metadata": {},
   "outputs": [
    {
     "name": "stdout",
     "output_type": "stream",
     "text": [
      "Previsão do modelo:\n",
      "\n",
      "Primeiro paciente: Nao regular \n",
      "Segundo paciente:  Regular\n",
      "\n",
      "\n"
     ]
    }
   ],
   "source": [
    "print(f'''Previsão do modelo:\n",
    "\n",
    "Primeiro paciente: {tb_orange.domain.class_var.values[previsoes[0]]} \n",
    "Segundo paciente:  {tb_orange.domain.class_var.values[previsoes[1]]}\n",
    "\n",
    "''')"
   ]
  }
 ],
 "metadata": {
  "kernelspec": {
   "display_name": "Python 3 (ipykernel)",
   "language": "python",
   "name": "python3"
  },
  "language_info": {
   "codemirror_mode": {
    "name": "ipython",
    "version": 3
   },
   "file_extension": ".py",
   "mimetype": "text/x-python",
   "name": "python",
   "nbconvert_exporter": "python",
   "pygments_lexer": "ipython3",
   "version": "3.11.6"
  },
  "varInspector": {
   "cols": {
    "lenName": 16,
    "lenType": 16,
    "lenVar": 40
   },
   "kernels_config": {
    "python": {
     "delete_cmd_postfix": "",
     "delete_cmd_prefix": "del ",
     "library": "var_list.py",
     "varRefreshCmd": "print(var_dic_list())"
    },
    "r": {
     "delete_cmd_postfix": ") ",
     "delete_cmd_prefix": "rm(",
     "library": "var_list.r",
     "varRefreshCmd": "cat(var_dic_list()) "
    }
   },
   "types_to_exclude": [
    "module",
    "function",
    "builtin_function_or_method",
    "instance",
    "_Feature"
   ],
   "window_display": false
  }
 },
 "nbformat": 4,
 "nbformat_minor": 5
}
