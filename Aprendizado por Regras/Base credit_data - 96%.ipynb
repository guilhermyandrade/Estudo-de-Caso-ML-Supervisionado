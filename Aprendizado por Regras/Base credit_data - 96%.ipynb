{
 "cells": [
  {
   "cell_type": "markdown",
   "id": "09fb4e8f",
   "metadata": {},
   "source": [
    "#### Carregando a base de dados"
   ]
  },
  {
   "cell_type": "markdown",
   "metadata": {},
   "source": [
    "##### Obtendo base de dados específica para este modelo\n",
    "\n",
    "Este algoritmo identifica classes por meio de dois caracteres (\"c#\") antes do nome do atributo. Por exemplo, numa base de dados com os atributos A, B, C e D onde o atributo das classes é D, o nome do atributo \"D\" deve ser alterado para \"c#D\"."
   ]
  },
  {
   "cell_type": "code",
   "execution_count": 1,
   "id": "f66f0a30",
   "metadata": {},
   "outputs": [],
   "source": [
    "import Orange\n",
    "\n",
    "# Importando a base de dados e transformando-a em uma tabela\n",
    "tb_orange = Orange.data.Table(\"../_Material/Bases de dados/credit_data_regras.csv\")"
   ]
  },
  {
   "cell_type": "code",
   "execution_count": 2,
   "metadata": {},
   "outputs": [
    {
     "data": {
      "text/plain": [
       "[clientid, income, age, loan | default]"
      ]
     },
     "execution_count": 2,
     "metadata": {},
     "output_type": "execute_result"
    }
   ],
   "source": [
    "tb_orange.domain"
   ]
  },
  {
   "cell_type": "code",
   "execution_count": 6,
   "metadata": {},
   "outputs": [
    {
     "name": "stdout",
     "output_type": "stream",
     "text": [
      "Tamanho da base de treinamento:  1500 \n",
      " Tamanho da base de teste:  500\n"
     ]
    }
   ],
   "source": [
    "# Criando uma variável para receber a uma matriz com a base de dados dividida entre base de teste e treinamento\n",
    "tb_divisao = Orange.evaluation.testing.sample(tb_orange, n = 0.25)\n",
    "\n",
    "# Separando treinamento e teste\n",
    "base_treinamento = tb_divisao[1]\n",
    "base_teste = tb_divisao[0]\n",
    "\n",
    "print('Tamanho da base de treinamento: ', len(base_treinamento), '\\n','Tamanho da base de teste: ', len(base_teste))"
   ]
  },
  {
   "cell_type": "markdown",
   "id": "12e10fee",
   "metadata": {},
   "source": [
    "#### Aplicação do aprendizado"
   ]
  },
  {
   "cell_type": "code",
   "execution_count": 7,
   "id": "e08de920",
   "metadata": {},
   "outputs": [],
   "source": [
    "# Criando um classificador\n",
    "cn2 = Orange.classification.rules.CN2Learner()\n",
    "\n",
    "modelo = cn2( base_treinamento )  # Treinando o modelo"
   ]
  },
  {
   "cell_type": "code",
   "execution_count": 8,
   "metadata": {},
   "outputs": [
    {
     "name": "stdout",
     "output_type": "stream",
     "text": [
      "IF age>=34.9966813726351 THEN default=0 \n",
      "IF loan>=8045.4409532236705 THEN default=1 \n",
      "IF income>=58147.7998569608 AND clientid>=309.0 THEN default=0 \n",
      "IF loan<=2507.64970973955 AND income>=20511.4294355735 THEN default=0 \n",
      "IF age<=18.4162362311035 AND income>=32197.6207010448 THEN default=0 \n",
      "IF income<=34145.7995516248 AND clientid>=1733.0 THEN default=1 \n",
      "IF age>=34.851817262359 THEN default=0 \n",
      "IF loan>=6016.61509078929 AND loan>=7112.926157135659 THEN default=1 \n",
      "IF loan>=5836.56338145928 AND loan>=7035.58910734261 THEN default=0 \n",
      "IF loan>=5836.56338145928 AND loan>=6289.25607587104 THEN default=1 \n",
      "IF income>=50360.6787929311 THEN default=0 \n",
      "IF loan>=5836.56338145928 THEN default=1 \n",
      "IF income>=34145.7995516248 AND income>=45971.133494749694 THEN default=0 \n",
      "IF loan>=3928.3039085182704 AND age>=32.1632712800056 THEN default=1 \n",
      "IF age>=33.4312054850161 THEN default=0 \n",
      "IF loan>=4849.33378471958 AND age>=24.4157260977663 THEN default=1 \n",
      "IF clientid>=1471.0 AND clientid>=1581.0 THEN default=0 \n",
      "IF income<=32256.8615246564 AND loan>=3105.4430213977303 THEN default=1 \n",
      "IF age>=32.8975483207032 THEN default=1 \n",
      "IF age>=30.676849837880603 THEN default=0 \n",
      "IF age>=30.132575557101497 THEN default=1 \n",
      "IF clientid>=1175.0 THEN default=0 \n",
      "IF clientid>=1102.0 THEN default=1 \n",
      "IF loan>=5416.3577980789005 THEN default=1 \n",
      "IF age>=19.716176087502397 AND clientid>=898.0 THEN default=0 \n",
      "IF clientid>=879.0 THEN default=1 \n",
      "IF clientid>=469.0 THEN default=0 \n",
      "IF clientid>=386.0 THEN default=1 \n",
      "IF income>=24857.6948815025 THEN default=0 \n",
      "IF clientid<=274.0 THEN default=1 \n",
      "IF TRUE THEN default=0 \n"
     ]
    }
   ],
   "source": [
    "# Imprimindo as regras geradas no treinamento\n",
    "for regra in modelo.rule_list:\n",
    "    print( regra )"
   ]
  },
  {
   "cell_type": "markdown",
   "id": "72125fd8",
   "metadata": {},
   "source": [
    "#### Visualizando resultados do modelo"
   ]
  },
  {
   "cell_type": "code",
   "execution_count": 9,
   "id": "44b553ff",
   "metadata": {},
   "outputs": [],
   "source": [
    "previsao = Orange.evaluation.testing.TestOnTestData(\n",
    "    base_treinamento,\n",
    "    base_teste,\n",
    "    [lambda x: modelo]\n",
    ")"
   ]
  },
  {
   "cell_type": "code",
   "execution_count": 10,
   "metadata": {},
   "outputs": [
    {
     "name": "stdout",
     "output_type": "stream",
     "text": [
      "Precisão do modelo: 96.0%\n"
     ]
    }
   ],
   "source": [
    "print(f'Precisão do modelo: {Orange.evaluation.CA(previsao)[0] * 100}%')"
   ]
  }
 ],
 "metadata": {
  "kernelspec": {
   "display_name": "Python 3 (ipykernel)",
   "language": "python",
   "name": "python3"
  },
  "language_info": {
   "codemirror_mode": {
    "name": "ipython",
    "version": 3
   },
   "file_extension": ".py",
   "mimetype": "text/x-python",
   "name": "python",
   "nbconvert_exporter": "python",
   "pygments_lexer": "ipython3",
   "version": "3.11.6"
  },
  "varInspector": {
   "cols": {
    "lenName": 16,
    "lenType": 16,
    "lenVar": 40
   },
   "kernels_config": {
    "python": {
     "delete_cmd_postfix": "",
     "delete_cmd_prefix": "del ",
     "library": "var_list.py",
     "varRefreshCmd": "print(var_dic_list())"
    },
    "r": {
     "delete_cmd_postfix": ") ",
     "delete_cmd_prefix": "rm(",
     "library": "var_list.r",
     "varRefreshCmd": "cat(var_dic_list()) "
    }
   },
   "types_to_exclude": [
    "module",
    "function",
    "builtin_function_or_method",
    "instance",
    "_Feature"
   ],
   "window_display": false
  }
 },
 "nbformat": 4,
 "nbformat_minor": 5
}
