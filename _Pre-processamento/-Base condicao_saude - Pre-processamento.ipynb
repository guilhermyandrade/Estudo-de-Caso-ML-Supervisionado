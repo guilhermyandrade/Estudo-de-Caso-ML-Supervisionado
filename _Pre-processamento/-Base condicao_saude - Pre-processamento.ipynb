{
 "cells": [
  {
   "cell_type": "markdown",
   "id": "426bd109",
   "metadata": {},
   "source": [
    "### Objetivo do algoritmo: Preprocessar a base de dados."
   ]
  },
  {
   "cell_type": "code",
   "execution_count": 2,
   "id": "d385ae16",
   "metadata": {},
   "outputs": [],
   "source": [
    "import pandas as pd, \\\n",
    "       numpy as np, \\\n",
    "       seaborn as sns, \\\n",
    "       matplotlib.pyplot as plt"
   ]
  },
  {
   "cell_type": "code",
   "execution_count": 3,
   "id": "14be9646",
   "metadata": {
    "scrolled": false
   },
   "outputs": [
    {
     "data": {
      "text/html": [
       "<div>\n",
       "<style scoped>\n",
       "    .dataframe tbody tr th:only-of-type {\n",
       "        vertical-align: middle;\n",
       "    }\n",
       "\n",
       "    .dataframe tbody tr th {\n",
       "        vertical-align: top;\n",
       "    }\n",
       "\n",
       "    .dataframe thead th {\n",
       "        text-align: right;\n",
       "    }\n",
       "</style>\n",
       "<table border=\"1\" class=\"dataframe\">\n",
       "  <thead>\n",
       "    <tr style=\"text-align: right;\">\n",
       "      <th></th>\n",
       "      <th>Paciente</th>\n",
       "      <th>Status do peso</th>\n",
       "      <th>Alimentação</th>\n",
       "      <th>Pressão Sanguínea</th>\n",
       "      <th>Colesterol</th>\n",
       "      <th>Diabetes</th>\n",
       "      <th>Exercício Físico</th>\n",
       "      <th>Condição</th>\n",
       "    </tr>\n",
       "  </thead>\n",
       "  <tbody>\n",
       "    <tr>\n",
       "      <th>0</th>\n",
       "      <td>1</td>\n",
       "      <td>Acima</td>\n",
       "      <td>Desbalanceada</td>\n",
       "      <td>Elevada</td>\n",
       "      <td>Normal</td>\n",
       "      <td>Sim</td>\n",
       "      <td>Nao</td>\n",
       "      <td>Nao regular</td>\n",
       "    </tr>\n",
       "    <tr>\n",
       "      <th>1</th>\n",
       "      <td>2</td>\n",
       "      <td>Regular</td>\n",
       "      <td>Balanceada</td>\n",
       "      <td>Elevada</td>\n",
       "      <td>Elevado</td>\n",
       "      <td>Nao</td>\n",
       "      <td>Nao</td>\n",
       "      <td>Nao regular</td>\n",
       "    </tr>\n",
       "    <tr>\n",
       "      <th>2</th>\n",
       "      <td>3</td>\n",
       "      <td>Regular</td>\n",
       "      <td>Balanceada</td>\n",
       "      <td>Baixa</td>\n",
       "      <td>Normal</td>\n",
       "      <td>Nao</td>\n",
       "      <td>Nao</td>\n",
       "      <td>Regular</td>\n",
       "    </tr>\n",
       "    <tr>\n",
       "      <th>3</th>\n",
       "      <td>4</td>\n",
       "      <td>Regular</td>\n",
       "      <td>Balanceada</td>\n",
       "      <td>Normal</td>\n",
       "      <td>Elevado</td>\n",
       "      <td>Nao</td>\n",
       "      <td>Sim</td>\n",
       "      <td>Regular</td>\n",
       "    </tr>\n",
       "    <tr>\n",
       "      <th>4</th>\n",
       "      <td>5</td>\n",
       "      <td>Abaixo</td>\n",
       "      <td>Desbalanceada</td>\n",
       "      <td>Normal</td>\n",
       "      <td>Elevado</td>\n",
       "      <td>Sim</td>\n",
       "      <td>Nao</td>\n",
       "      <td>Nao regular</td>\n",
       "    </tr>\n",
       "    <tr>\n",
       "      <th>5</th>\n",
       "      <td>6</td>\n",
       "      <td>Regular</td>\n",
       "      <td>Balanceada</td>\n",
       "      <td>Elevada</td>\n",
       "      <td>Normal</td>\n",
       "      <td>Sim</td>\n",
       "      <td>Sim</td>\n",
       "      <td>Regular</td>\n",
       "    </tr>\n",
       "    <tr>\n",
       "      <th>6</th>\n",
       "      <td>7</td>\n",
       "      <td>Acima</td>\n",
       "      <td>Desbalanceada</td>\n",
       "      <td>Elevada</td>\n",
       "      <td>Normal</td>\n",
       "      <td>Sim</td>\n",
       "      <td>Nao</td>\n",
       "      <td>Nao regular</td>\n",
       "    </tr>\n",
       "    <tr>\n",
       "      <th>7</th>\n",
       "      <td>8</td>\n",
       "      <td>Abaixo</td>\n",
       "      <td>Balanceada</td>\n",
       "      <td>Normal</td>\n",
       "      <td>Normal</td>\n",
       "      <td>Nao</td>\n",
       "      <td>Sim</td>\n",
       "      <td>Regular</td>\n",
       "    </tr>\n",
       "    <tr>\n",
       "      <th>8</th>\n",
       "      <td>9</td>\n",
       "      <td>Acima</td>\n",
       "      <td>Balanceada</td>\n",
       "      <td>Baixa</td>\n",
       "      <td>Normal</td>\n",
       "      <td>Nao</td>\n",
       "      <td>Nao</td>\n",
       "      <td>Regular</td>\n",
       "    </tr>\n",
       "    <tr>\n",
       "      <th>9</th>\n",
       "      <td>10</td>\n",
       "      <td>Acima</td>\n",
       "      <td>Desbalanceada</td>\n",
       "      <td>Elevada</td>\n",
       "      <td>Elevado</td>\n",
       "      <td>Nao</td>\n",
       "      <td>Sim</td>\n",
       "      <td>Nao regular</td>\n",
       "    </tr>\n",
       "    <tr>\n",
       "      <th>10</th>\n",
       "      <td>11</td>\n",
       "      <td>Abaixo</td>\n",
       "      <td>Desbalanceada</td>\n",
       "      <td>Normal</td>\n",
       "      <td>Elevado</td>\n",
       "      <td>Nao</td>\n",
       "      <td>Sim</td>\n",
       "      <td>Nao regular</td>\n",
       "    </tr>\n",
       "    <tr>\n",
       "      <th>11</th>\n",
       "      <td>12</td>\n",
       "      <td>Regular</td>\n",
       "      <td>Balanceada</td>\n",
       "      <td>Baixa</td>\n",
       "      <td>Normal</td>\n",
       "      <td>Sim</td>\n",
       "      <td>Sim</td>\n",
       "      <td>Regular</td>\n",
       "    </tr>\n",
       "    <tr>\n",
       "      <th>12</th>\n",
       "      <td>13</td>\n",
       "      <td>Acima</td>\n",
       "      <td>Balanceada</td>\n",
       "      <td>Elevada</td>\n",
       "      <td>Elevado</td>\n",
       "      <td>Sim</td>\n",
       "      <td>Nao</td>\n",
       "      <td>Nao regular</td>\n",
       "    </tr>\n",
       "    <tr>\n",
       "      <th>13</th>\n",
       "      <td>14</td>\n",
       "      <td>Regular</td>\n",
       "      <td>Desbalanceada</td>\n",
       "      <td>Normal</td>\n",
       "      <td>Normal</td>\n",
       "      <td>Nao</td>\n",
       "      <td>Sim</td>\n",
       "      <td>Regular</td>\n",
       "    </tr>\n",
       "    <tr>\n",
       "      <th>14</th>\n",
       "      <td>15</td>\n",
       "      <td>Abaixo</td>\n",
       "      <td>Desbalanceada</td>\n",
       "      <td>Elevada</td>\n",
       "      <td>Elevado</td>\n",
       "      <td>Sim</td>\n",
       "      <td>Nao</td>\n",
       "      <td>Nao regular</td>\n",
       "    </tr>\n",
       "    <tr>\n",
       "      <th>15</th>\n",
       "      <td>16</td>\n",
       "      <td>Acima</td>\n",
       "      <td>Desbalanceada</td>\n",
       "      <td>Elevada</td>\n",
       "      <td>Elevado</td>\n",
       "      <td>Sim</td>\n",
       "      <td>Nao</td>\n",
       "      <td>Nao regular</td>\n",
       "    </tr>\n",
       "  </tbody>\n",
       "</table>\n",
       "</div>"
      ],
      "text/plain": [
       "    Paciente Status do peso    Alimentação Pressão Sanguínea Colesterol  \\\n",
       "0          1          Acima  Desbalanceada           Elevada     Normal   \n",
       "1          2        Regular     Balanceada           Elevada    Elevado   \n",
       "2          3        Regular     Balanceada             Baixa     Normal   \n",
       "3          4        Regular     Balanceada            Normal    Elevado   \n",
       "4          5         Abaixo  Desbalanceada            Normal    Elevado   \n",
       "5          6        Regular     Balanceada           Elevada     Normal   \n",
       "6          7          Acima  Desbalanceada           Elevada     Normal   \n",
       "7          8         Abaixo     Balanceada            Normal     Normal   \n",
       "8          9          Acima     Balanceada             Baixa     Normal   \n",
       "9         10          Acima  Desbalanceada           Elevada    Elevado   \n",
       "10        11         Abaixo  Desbalanceada            Normal    Elevado   \n",
       "11        12        Regular     Balanceada             Baixa     Normal   \n",
       "12        13          Acima     Balanceada           Elevada    Elevado   \n",
       "13        14        Regular  Desbalanceada            Normal     Normal   \n",
       "14        15         Abaixo  Desbalanceada           Elevada    Elevado   \n",
       "15        16          Acima  Desbalanceada           Elevada    Elevado   \n",
       "\n",
       "   Diabetes Exercício Físico     Condição  \n",
       "0       Sim              Nao  Nao regular  \n",
       "1       Nao              Nao  Nao regular  \n",
       "2       Nao              Nao      Regular  \n",
       "3       Nao              Sim      Regular  \n",
       "4       Sim              Nao  Nao regular  \n",
       "5       Sim              Sim      Regular  \n",
       "6       Sim              Nao  Nao regular  \n",
       "7       Nao              Sim      Regular  \n",
       "8       Nao              Nao      Regular  \n",
       "9       Nao              Sim  Nao regular  \n",
       "10      Nao              Sim  Nao regular  \n",
       "11      Sim              Sim      Regular  \n",
       "12      Sim              Nao  Nao regular  \n",
       "13      Nao              Sim      Regular  \n",
       "14      Sim              Nao  Nao regular  \n",
       "15      Sim              Nao  Nao regular  "
      ]
     },
     "execution_count": 3,
     "metadata": {},
     "output_type": "execute_result"
    }
   ],
   "source": [
    "df = pd.read_csv( r'../_Material/Bases de dados/condicao_saude.csv' )\n",
    "\n",
    "df"
   ]
  },
  {
   "cell_type": "markdown",
   "id": "442ee031",
   "metadata": {},
   "source": [
    "#### Dividindo base de dados entre previsores e classe\n",
    "\n",
    "Atributos previsores selecionados: Status do peso, Alimentação, Pressão Sanguínea, Colesterol, Diabetes e Exercício Físico\n",
    "\n",
    "O atributo \"Paciente\" não é relevante para o aprendizado de máquina nessa ocasião e, caso fosse usado com essa base de dados, causaria o que podemos chamar de \"overfitting\", fenômeno causado por registros muito específicos que fazem o modelo \"decorar\" registros ao invés de aprender a identificar padrões."
   ]
  },
  {
   "cell_type": "code",
   "execution_count": 4,
   "id": "6c8dd925",
   "metadata": {},
   "outputs": [],
   "source": [
    "# Fazendo uma cópia do dataframe para cortar as relações entre as variáveis de cópia e o df original\n",
    "previsores = df.iloc[:, 1:7].values\n",
    "classes = df.iloc[:, 7].values"
   ]
  },
  {
   "cell_type": "code",
   "execution_count": 5,
   "id": "b3fe684f",
   "metadata": {},
   "outputs": [
    {
     "name": "stdout",
     "output_type": "stream",
     "text": [
      "[['Acima' 'Desbalanceada' 'Elevada' 'Normal' 'Sim' 'Nao']\n",
      " ['Regular' 'Balanceada' 'Elevada' 'Elevado' 'Nao' 'Nao']\n",
      " ['Regular' 'Balanceada' 'Baixa' 'Normal' 'Nao' 'Nao']\n",
      " ['Regular' 'Balanceada' 'Normal' 'Elevado' 'Nao' 'Sim']\n",
      " ['Abaixo' 'Desbalanceada' 'Normal' 'Elevado' 'Sim' 'Nao']\n",
      " ['Regular' 'Balanceada' 'Elevada' 'Normal' 'Sim' 'Sim']\n",
      " ['Acima' 'Desbalanceada' 'Elevada' 'Normal' 'Sim' 'Nao']\n",
      " ['Abaixo' 'Balanceada' 'Normal' 'Normal' 'Nao' 'Sim']\n",
      " ['Acima' 'Balanceada' 'Baixa' 'Normal' 'Nao' 'Nao']\n",
      " ['Acima' 'Desbalanceada' 'Elevada' 'Elevado' 'Nao' 'Sim']\n",
      " ['Abaixo' 'Desbalanceada' 'Normal' 'Elevado' 'Nao' 'Sim']\n",
      " ['Regular' 'Balanceada' 'Baixa' 'Normal' 'Sim' 'Sim']\n",
      " ['Acima' 'Balanceada' 'Elevada' 'Elevado' 'Sim' 'Nao']\n",
      " ['Regular' 'Desbalanceada' 'Normal' 'Normal' 'Nao' 'Sim']\n",
      " ['Abaixo' 'Desbalanceada' 'Elevada' 'Elevado' 'Sim' 'Nao']\n",
      " ['Acima' 'Desbalanceada' 'Elevada' 'Elevado' 'Sim' 'Nao']] \n",
      "\n",
      " ['Nao regular' 'Nao regular' 'Regular' 'Regular' 'Nao regular' 'Regular'\n",
      " 'Nao regular' 'Regular' 'Regular' 'Nao regular' 'Nao regular' 'Regular'\n",
      " 'Nao regular' 'Regular' 'Nao regular' 'Nao regular']\n"
     ]
    }
   ],
   "source": [
    "print(previsores,  '\\n\\n', classes)"
   ]
  },
  {
   "cell_type": "markdown",
   "id": "70890f20",
   "metadata": {},
   "source": [
    "#### Preprocessamento dos dados\n",
    "\n",
    "Para este caso, por ser uma base de dados pequena e com valores não muito variados, não será necessário usar OneHotEncoder."
   ]
  },
  {
   "cell_type": "code",
   "execution_count": 6,
   "id": "0beab88c",
   "metadata": {},
   "outputs": [],
   "source": [
    "from sklearn.preprocessing import LabelEncoder\n",
    "\n",
    "label_encoder = LabelEncoder()"
   ]
  },
  {
   "cell_type": "code",
   "execution_count": 7,
   "id": "3273048d",
   "metadata": {},
   "outputs": [],
   "source": [
    "# For para percorrer as colunas da matriz e aplicar o LabelEncoder\n",
    "\n",
    "for v in range( len(previsores[0]) ):\n",
    "    previsores[:, v] = label_encoder.fit_transform( previsores[:, v] )"
   ]
  },
  {
   "cell_type": "code",
   "execution_count": 8,
   "id": "286ea492",
   "metadata": {},
   "outputs": [
    {
     "data": {
      "text/plain": [
       "array([[1, 1, 1, 1, 1, 0],\n",
       "       [2, 0, 1, 0, 0, 0],\n",
       "       [2, 0, 0, 1, 0, 0],\n",
       "       [2, 0, 2, 0, 0, 1],\n",
       "       [0, 1, 2, 0, 1, 0],\n",
       "       [2, 0, 1, 1, 1, 1],\n",
       "       [1, 1, 1, 1, 1, 0],\n",
       "       [0, 0, 2, 1, 0, 1],\n",
       "       [1, 0, 0, 1, 0, 0],\n",
       "       [1, 1, 1, 0, 0, 1],\n",
       "       [0, 1, 2, 0, 0, 1],\n",
       "       [2, 0, 0, 1, 1, 1],\n",
       "       [1, 0, 1, 0, 1, 0],\n",
       "       [2, 1, 2, 1, 0, 1],\n",
       "       [0, 1, 1, 0, 1, 0],\n",
       "       [1, 1, 1, 0, 1, 0]], dtype=object)"
      ]
     },
     "execution_count": 8,
     "metadata": {},
     "output_type": "execute_result"
    }
   ],
   "source": [
    "previsores"
   ]
  },
  {
   "cell_type": "markdown",
   "id": "0e5a85a9",
   "metadata": {},
   "source": [
    "### Salvando a base de dados"
   ]
  },
  {
   "cell_type": "code",
   "execution_count": 9,
   "id": "1c6c752a",
   "metadata": {},
   "outputs": [],
   "source": [
    "import pickle"
   ]
  },
  {
   "cell_type": "code",
   "execution_count": 11,
   "id": "0a582509",
   "metadata": {},
   "outputs": [],
   "source": [
    "with open(r'../_Material/Bases de dados/Bases pre-processadas/base_condicao_saude.pkl', mode = 'wb') as arquivo:\n",
    "    pickle.dump([\n",
    "        previsores,\n",
    "        classes\n",
    "    ],\n",
    "    arquivo\n",
    "    )"
   ]
  }
 ],
 "metadata": {
  "kernelspec": {
   "display_name": "Python 3 (ipykernel)",
   "language": "python",
   "name": "python3"
  },
  "language_info": {
   "codemirror_mode": {
    "name": "ipython",
    "version": 3
   },
   "file_extension": ".py",
   "mimetype": "text/x-python",
   "name": "python",
   "nbconvert_exporter": "python",
   "pygments_lexer": "ipython3",
   "version": "3.11.6"
  },
  "varInspector": {
   "cols": {
    "lenName": 16,
    "lenType": 16,
    "lenVar": 40
   },
   "kernels_config": {
    "python": {
     "delete_cmd_postfix": "",
     "delete_cmd_prefix": "del ",
     "library": "var_list.py",
     "varRefreshCmd": "print(var_dic_list())"
    },
    "r": {
     "delete_cmd_postfix": ") ",
     "delete_cmd_prefix": "rm(",
     "library": "var_list.r",
     "varRefreshCmd": "cat(var_dic_list()) "
    }
   },
   "types_to_exclude": [
    "module",
    "function",
    "builtin_function_or_method",
    "instance",
    "_Feature"
   ],
   "window_display": false
  }
 },
 "nbformat": 4,
 "nbformat_minor": 5
}
